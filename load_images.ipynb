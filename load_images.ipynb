{
 "metadata": {
  "language_info": {
   "codemirror_mode": {
    "name": "ipython",
    "version": 3
   },
   "file_extension": ".py",
   "mimetype": "text/x-python",
   "name": "python",
   "nbconvert_exporter": "python",
   "pygments_lexer": "ipython3",
   "version": "3.8.3-final"
  },
  "orig_nbformat": 2,
  "kernelspec": {
   "name": "python3",
   "display_name": "Python 3"
  }
 },
 "nbformat": 4,
 "nbformat_minor": 2,
 "cells": [
  {
   "cell_type": "code",
   "execution_count": 2,
   "metadata": {},
   "outputs": [],
   "source": [
    "import numpy as np\n",
    "import csv\n",
    "import cv2\n",
    "import os"
   ]
  },
  {
   "cell_type": "code",
   "execution_count": 1,
   "metadata": {},
   "outputs": [],
   "source": [
    "image_root = '../behavioral_cloning_images'\n",
    "\n",
    "result = [os.path.join(dp, f) for dp, dn, filenames in os.walk(image_root) for f in filenames if os.path.splitext(f)[1] == '.csv']\n"
   ]
  },
  {
   "cell_type": "code",
   "execution_count": 16,
   "metadata": {},
   "outputs": [],
   "source": [
    "def readLines(filename):\n",
    "    with open(filename) as csvfile:\n",
    "        reader = csv.reader(csvfile)\n",
    "        lines = []\n",
    "        for line in reader:\n",
    "            lines.append(line)\n",
    "\n",
    "    return lines\n",
    "\n",
    "def readImagesData(csv_filename):\n",
    "    lines = readLines(csv_filename)\n",
    "\n",
    "    image_dir = os.path.dirname(csv_filename)\n",
    "\n",
    "    center_images = []\n",
    "    left_images = []\n",
    "    right_images = []\n",
    "    directions = []\n",
    "\n",
    "    for line in lines:\n",
    "        center_filename = os.path.join(image_dir, 'IMG', line[0].split('/')[-1])\n",
    "        left_filename = os.path.join(image_dir, 'IMG', line[1].split('/')[-1])\n",
    "        right_filename = os.path.join(image_dir, 'IMG', line[2].split('/')[-1])\n",
    "\n",
    "        center_images.append(cv2.imread(center_filename))\n",
    "        left_images.append(cv2.imread(left_filename))\n",
    "        right_images.append(cv2.imread(right_filename))\n",
    "        directions.append(float(line[3]))\n",
    "\n",
    "    X_center = np.array(center_images)\n",
    "    X_left = np.array(left_images)\n",
    "    X_right = np.array(right_images)\n",
    "    y = np.array(directions)\n",
    "    \n",
    "    return X_center, X_left, X_right, y"
   ]
  },
  {
   "cell_type": "code",
   "execution_count": 17,
   "metadata": {},
   "outputs": [],
   "source": [
    "X_center, X_left, X_right, y = readImagesData(result[0])"
   ]
  }
 ]
}